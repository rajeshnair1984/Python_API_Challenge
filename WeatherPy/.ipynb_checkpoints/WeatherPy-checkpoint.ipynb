{
 "cells": [
  {
   "cell_type": "markdown",
   "metadata": {},
   "source": [
    "# WeatherPy\n",
    "----\n",
    "\n",
    "#### Note\n",
    "* Instructions have been included for each segment. You do not have to follow them exactly, but they are included to help you think through the steps."
   ]
  },
  {
   "cell_type": "code",
   "execution_count": 2,
   "metadata": {
    "scrolled": true
   },
   "outputs": [],
   "source": [
    "import matplotlib.pyplot as plt\n",
    "import requests\n",
    "import json\n",
    "from scipy import stats\n",
    "import pandas as pd\n",
    "import numpy as np\n",
    "import time\n",
    "from scipy.stats import linregress\n",
    "import datetime\n",
    "from pprint import pprint\n",
    "\n",
    "# To find the city names based on long and lat\n",
    "from citipy import citipy\n",
    "\n",
    "# import API keys\n",
    "from config import weather_key\n",
    "\n",
    "\n",
    "# Range of latitudes and longitudes\n",
    "lat_range = (-90, 90)\n",
    "lng_range = (-180, 180)"
   ]
  },
  {
   "cell_type": "code",
   "execution_count": 3,
   "metadata": {},
   "outputs": [],
   "source": [
    "url = 'http://api.openweathermap.org/data/2.5/weather?units=Imperial&APPID=' + weather_key"
   ]
  },
  {
   "cell_type": "markdown",
   "metadata": {},
   "source": [
    "## Generate Cities List"
   ]
  },
  {
   "cell_type": "code",
   "execution_count": 26,
   "metadata": {},
   "outputs": [
    {
     "name": "stdout",
     "output_type": "stream",
     "text": [
      "607\n"
     ]
    }
   ],
   "source": [
    "# Empty list of lat,long and cities\n",
    "\n",
    "cities = []\n",
    "\n",
    "# Generate random lat and long.\n",
    "lats = np.random.uniform(low=-90.000, high=90.000, size=1500)\n",
    "lngs = np.random.uniform(low=-180.000, high=180.000, size=1500)\n",
    "\n",
    "# zip the random lat and long for further analysis\n",
    "\n",
    "lat_longs = zip(lats, lngs)\n",
    "\n",
    "#Identify nearest city for each lat, lng combination\n",
    "\n",
    "for lat_long in lat_longs:\n",
    "    city = citipy.nearest_city(lat_long[0], lat_long[1]).city_name\n",
    "    \n",
    "# If the city is unique, then add it to a our cities list\n",
    "\n",
    "    if city not in cities:\n",
    "        cities.append(city)\n",
    "\n",
    "# Print the city count to confirm sufficient count\n",
    "       \n",
    "print(len(cities))\n"
   ]
  },
  {
   "cell_type": "markdown",
   "metadata": {},
   "source": [
    "### Perform API Calls\n",
    "* Perform a weather check on each city using a series of successive API calls.\n",
    "* Include a print log of each city as it'sbeing processed (with the city number and city name).\n"
   ]
  },
  {
   "cell_type": "code",
   "execution_count": 27,
   "metadata": {},
   "outputs": [
    {
     "name": "stdout",
     "output_type": "stream",
     "text": [
      "------------------------------\n",
      "Start of Records\n",
      "------------------------------\n",
      "City number 1 of 607 complete. | Added ilulissat\n",
      "City number 2 of 607 complete. | Added vanavara\n",
      "City number 3 of 607 complete. | Added ushuaia\n",
      "Missing data in city number 4 of 607. | Skipping grand river south east\n",
      "City number 5 of 607 complete. | Added camana\n",
      "City number 6 of 607 complete. | Added vaini\n",
      "City number 7 of 607 complete. | Added hobart\n",
      "City number 8 of 607 complete. | Added dimitrovgrad\n",
      "City number 9 of 607 complete. | Added punta arenas\n",
      "City number 10 of 607 complete. | Added pevek\n",
      "City number 11 of 607 complete. | Added codrington\n",
      "City number 12 of 607 complete. | Added ponta do sol\n",
      "City number 13 of 607 complete. | Added kupang\n",
      "City number 14 of 607 complete. | Added banda aceh\n",
      "City number 15 of 607 complete. | Added karratha\n",
      "Missing data in city number 16 of 607. | Skipping ust-kamchatsk\n",
      "City number 17 of 607 complete. | Added kenai\n",
      "City number 18 of 607 complete. | Added kalabo\n",
      "City number 19 of 607 complete. | Added rio grande\n",
      "City number 20 of 607 complete. | Added huarmey\n",
      "Missing data in city number 21 of 607. | Skipping nizhneyansk\n",
      "Missing data in city number 22 of 607. | Skipping amderma\n",
      "Missing data in city number 23 of 607. | Skipping attawapiskat\n",
      "City number 24 of 607 complete. | Added constitucion\n",
      "City number 25 of 607 complete. | Added khingansk\n",
      "City number 26 of 607 complete. | Added butaritari\n",
      "City number 27 of 607 complete. | Added narsaq\n",
      "City number 28 of 607 complete. | Added mujiayingzi\n",
      "City number 29 of 607 complete. | Added mataura\n",
      "City number 30 of 607 complete. | Added cape town\n",
      "City number 31 of 607 complete. | Added mayumba\n",
      "City number 32 of 607 complete. | Added mahebourg\n",
      "City number 33 of 607 complete. | Added high level\n",
      "City number 34 of 607 complete. | Added saint george\n",
      "City number 35 of 607 complete. | Added anshun\n",
      "City number 36 of 607 complete. | Added san cristobal\n",
      "City number 37 of 607 complete. | Added odweyne\n",
      "City number 38 of 607 complete. | Added khatanga\n",
      "City number 39 of 607 complete. | Added rikitea\n",
      "City number 40 of 607 complete. | Added saint-pierre\n",
      "City number 41 of 607 complete. | Added dikson\n",
      "City number 42 of 607 complete. | Added bluff\n",
      "City number 43 of 607 complete. | Added cochrane\n",
      "City number 44 of 607 complete. | Added labuhan\n",
      "City number 45 of 607 complete. | Added gardenstown\n",
      "City number 46 of 607 complete. | Added kieta\n",
      "City number 47 of 607 complete. | Added menongue\n",
      "Missing data in city number 48 of 607. | Skipping saleaula\n",
      "City number 49 of 607 complete. | Added hithadhoo\n",
      "City number 50 of 607 complete. | Added severo-kurilsk\n",
      "City number 51 of 607 complete. | Added new norfolk\n",
      "City number 52 of 607 complete. | Added iquitos\n",
      "City number 53 of 607 complete. | Added tadine\n",
      "City number 54 of 607 complete. | Added castro\n",
      "City number 55 of 607 complete. | Added egvekinot\n",
      "City number 56 of 607 complete. | Added busselton\n",
      "City number 57 of 607 complete. | Added albany\n",
      "City number 58 of 607 complete. | Added camacha\n",
      "City number 59 of 607 complete. | Added bodmin\n",
      "City number 60 of 607 complete. | Added koygorodok\n",
      "City number 61 of 607 complete. | Added ribeira grande\n",
      "City number 62 of 607 complete. | Added shimoda\n",
      "City number 63 of 607 complete. | Added norman wells\n",
      "City number 64 of 607 complete. | Added patnos\n",
      "City number 65 of 607 complete. | Added westport\n",
      "City number 66 of 607 complete. | Added sakakah\n",
      "City number 67 of 607 complete. | Added atuona\n",
      "City number 68 of 607 complete. | Added avarua\n",
      "City number 69 of 607 complete. | Added coihaique\n",
      "City number 70 of 607 complete. | Added campbell river\n",
      "City number 71 of 607 complete. | Added chapais\n",
      "City number 72 of 607 complete. | Added kapaa\n",
      "City number 73 of 607 complete. | Added tulun\n",
      "City number 74 of 607 complete. | Added hermanus\n",
      "City number 75 of 607 complete. | Added srednekolymsk\n",
      "City number 76 of 607 complete. | Added bredasdorp\n",
      "City number 77 of 607 complete. | Added longyearbyen\n",
      "City number 78 of 607 complete. | Added porbandar\n",
      "City number 79 of 607 complete. | Added yima\n",
      "City number 80 of 607 complete. | Added port alfred\n",
      "City number 81 of 607 complete. | Added hilo\n",
      "City number 82 of 607 complete. | Added manicore\n",
      "City number 83 of 607 complete. | Added esperance\n",
      "City number 84 of 607 complete. | Added palkino\n",
      "City number 85 of 607 complete. | Added kudahuvadhoo\n",
      "City number 86 of 607 complete. | Added cap-aux-meules\n",
      "City number 87 of 607 complete. | Added kaitangata\n",
      "Missing data in city number 88 of 607. | Skipping taolanaro\n",
      "City number 89 of 607 complete. | Added bonavista\n",
      "City number 90 of 607 complete. | Added hualmay\n",
      "City number 91 of 607 complete. | Added la rioja\n",
      "City number 92 of 607 complete. | Added lorengau\n",
      "City number 93 of 607 complete. | Added tam ky\n",
      "City number 94 of 607 complete. | Added gorontalo\n",
      "City number 95 of 607 complete. | Added sao joao da barra\n",
      "City number 96 of 607 complete. | Added mount gambier\n",
      "Missing data in city number 97 of 607. | Skipping belushya guba\n",
      "Missing data in city number 98 of 607. | Skipping umzimvubu\n",
      "City number 99 of 607 complete. | Added catamarca\n",
      "City number 100 of 607 complete. | Added vernon\n",
      "City number 101 of 607 complete. | Added tofte\n",
      "Missing data in city number 102 of 607. | Skipping khonuu\n",
      "City number 103 of 607 complete. | Added fayaoue\n",
      "City number 104 of 607 complete. | Added vostok\n",
      "City number 105 of 607 complete. | Added chabahar\n",
      "Missing data in city number 106 of 607. | Skipping barbar\n",
      "City number 107 of 607 complete. | Added banjar\n",
      "City number 108 of 607 complete. | Added tuktoyaktuk\n",
      "City number 109 of 607 complete. | Added georgetown\n",
      "City number 110 of 607 complete. | Added kampot\n",
      "Missing data in city number 111 of 607. | Skipping milingimbi\n",
      "City number 112 of 607 complete. | Added yerbogachen\n",
      "City number 113 of 607 complete. | Added manggar\n",
      "City number 114 of 607 complete. | Added malpe\n",
      "City number 115 of 607 complete. | Added hambantota\n",
      "City number 116 of 607 complete. | Added mar del plata\n",
      "City number 117 of 607 complete. | Added fushun\n",
      "City number 118 of 607 complete. | Added quatre cocos\n",
      "Missing data in city number 119 of 607. | Skipping tsihombe\n",
      "Missing data in city number 120 of 607. | Skipping kuche\n",
      "City number 121 of 607 complete. | Added sumbe\n",
      "City number 122 of 607 complete. | Added nikolskoye\n",
      "City number 123 of 607 complete. | Added nizhneangarsk\n",
      "City number 124 of 607 complete. | Added upernavik\n",
      "City number 125 of 607 complete. | Added sijunjung\n",
      "City number 126 of 607 complete. | Added san antonio\n",
      "City number 127 of 607 complete. | Added yellowknife\n",
      "City number 128 of 607 complete. | Added takoradi\n",
      "City number 129 of 607 complete. | Added puerto baquerizo moreno\n",
      "City number 130 of 607 complete. | Added touros\n",
      "City number 131 of 607 complete. | Added chuy\n",
      "City number 132 of 607 complete. | Added saint-philippe\n",
      "City number 133 of 607 complete. | Added fort saint james\n",
      "City number 134 of 607 complete. | Added bethel\n",
      "City number 135 of 607 complete. | Added nome\n",
      "City number 136 of 607 complete. | Added stara synyava\n",
      "City number 137 of 607 complete. | Added acapulco\n",
      "City number 138 of 607 complete. | Added tuatapere\n",
      "City number 139 of 607 complete. | Added bandarbeyla\n",
      "Missing data in city number 140 of 607. | Skipping skage\n",
      "City number 141 of 607 complete. | Added caravelas\n",
      "City number 142 of 607 complete. | Added jamestown\n",
      "City number 143 of 607 complete. | Added moussoro\n",
      "City number 144 of 607 complete. | Added miyako\n",
      "City number 145 of 607 complete. | Added deputatskiy\n",
      "City number 146 of 607 complete. | Added saint anthony\n",
      "City number 147 of 607 complete. | Added miraflores\n",
      "City number 148 of 607 complete. | Added te anau\n",
      "City number 149 of 607 complete. | Added torbay\n",
      "City number 150 of 607 complete. | Added hirara\n",
      "City number 151 of 607 complete. | Added bertoua\n",
      "City number 152 of 607 complete. | Added lasa\n",
      "City number 153 of 607 complete. | Added atar\n",
      "City number 154 of 607 complete. | Added ambilobe\n",
      "City number 155 of 607 complete. | Added marystown\n",
      "City number 156 of 607 complete. | Added san nicolas guadalupe\n",
      "City number 157 of 607 complete. | Added pangnirtung\n",
      "City number 158 of 607 complete. | Added ginir\n",
      "City number 159 of 607 complete. | Added kharhial\n"
     ]
    },
    {
     "name": "stdout",
     "output_type": "stream",
     "text": [
      "City number 160 of 607 complete. | Added qaanaaq\n",
      "Missing data in city number 161 of 607. | Skipping illoqqortoormiut\n",
      "City number 162 of 607 complete. | Added thanh hoa\n",
      "City number 163 of 607 complete. | Added siraha\n",
      "City number 164 of 607 complete. | Added comodoro rivadavia\n",
      "City number 165 of 607 complete. | Added asyut\n",
      "City number 166 of 607 complete. | Added alofi\n",
      "City number 167 of 607 complete. | Added mitsamiouli\n",
      "City number 168 of 607 complete. | Added usinsk\n",
      "City number 169 of 607 complete. | Added stornoway\n",
      "City number 170 of 607 complete. | Added chokurdakh\n",
      "City number 171 of 607 complete. | Added bengkulu\n",
      "City number 172 of 607 complete. | Added auki\n",
      "City number 173 of 607 complete. | Added sampit\n",
      "City number 174 of 607 complete. | Added san jose\n",
      "City number 175 of 607 complete. | Added cabog\n",
      "City number 176 of 607 complete. | Added zyryanka\n",
      "City number 177 of 607 complete. | Added wattegama\n",
      "City number 178 of 607 complete. | Added tual\n",
      "Missing data in city number 179 of 607. | Skipping barentsburg\n",
      "City number 180 of 607 complete. | Added lucea\n",
      "City number 181 of 607 complete. | Added karonga\n",
      "City number 182 of 607 complete. | Added korem\n",
      "City number 183 of 607 complete. | Added los llanos de aridane\n",
      "City number 184 of 607 complete. | Added flinders\n",
      "City number 185 of 607 complete. | Added sitka\n",
      "City number 186 of 607 complete. | Added lavrentiya\n",
      "City number 187 of 607 complete. | Added conceicao da barra\n",
      "City number 188 of 607 complete. | Added high rock\n",
      "City number 189 of 607 complete. | Added asau\n",
      "City number 190 of 607 complete. | Added sorland\n",
      "City number 191 of 607 complete. | Added east london\n",
      "Missing data in city number 192 of 607. | Skipping satitoa\n",
      "Missing data in city number 193 of 607. | Skipping azimur\n",
      "City number 194 of 607 complete. | Added nanortalik\n",
      "City number 195 of 607 complete. | Added sechura\n",
      "City number 196 of 607 complete. | Added taft\n",
      "Missing data in city number 197 of 607. | Skipping palabuhanratu\n",
      "City number 198 of 607 complete. | Added tazmalt\n",
      "City number 199 of 607 complete. | Added anloga\n",
      "City number 200 of 607 complete. | Added nalvo\n",
      "City number 201 of 607 complete. | Added zhangye\n",
      "City number 202 of 607 complete. | Added pokhara\n",
      "City number 203 of 607 complete. | Added jibuti\n",
      "City number 204 of 607 complete. | Added nuuk\n",
      "City number 205 of 607 complete. | Added olafsvik\n",
      "City number 206 of 607 complete. | Added enid\n",
      "City number 207 of 607 complete. | Added harihar\n",
      "City number 208 of 607 complete. | Added barranca\n",
      "City number 209 of 607 complete. | Added cairns\n",
      "City number 210 of 607 complete. | Added aklavik\n",
      "City number 211 of 607 complete. | Added saskylakh\n",
      "City number 212 of 607 complete. | Added mapiripan\n",
      "City number 213 of 607 complete. | Added prokuplje\n",
      "City number 214 of 607 complete. | Added petatlan\n",
      "City number 215 of 607 complete. | Added emba\n",
      "City number 216 of 607 complete. | Added staryy nadym\n",
      "City number 217 of 607 complete. | Added belyy yar\n",
      "City number 218 of 607 complete. | Added rocha\n",
      "City number 219 of 607 complete. | Added ponta pora\n",
      "City number 220 of 607 complete. | Added koksovyy\n",
      "City number 221 of 607 complete. | Added itarema\n",
      "City number 222 of 607 complete. | Added amga\n",
      "City number 223 of 607 complete. | Added yar-sale\n",
      "City number 224 of 607 complete. | Added vardo\n",
      "City number 225 of 607 complete. | Added okha\n",
      "City number 226 of 607 complete. | Added sobolevo\n",
      "Missing data in city number 227 of 607. | Skipping warqla\n",
      "City number 228 of 607 complete. | Added klaksvik\n",
      "City number 229 of 607 complete. | Added jutai\n",
      "Missing data in city number 230 of 607. | Skipping mrirt\n",
      "City number 231 of 607 complete. | Added airai\n",
      "Missing data in city number 232 of 607. | Skipping kracheh\n",
      "City number 233 of 607 complete. | Added lagoa\n",
      "City number 234 of 607 complete. | Added ballina\n",
      "City number 235 of 607 complete. | Added waipawa\n",
      "City number 236 of 607 complete. | Added sturgis\n",
      "City number 237 of 607 complete. | Added metes\n",
      "City number 238 of 607 complete. | Added haines junction\n",
      "City number 239 of 607 complete. | Added kodiak\n",
      "City number 240 of 607 complete. | Added tiksi\n",
      "City number 241 of 607 complete. | Added sabrum\n",
      "City number 242 of 607 complete. | Added hyeres\n",
      "City number 243 of 607 complete. | Added ancud\n",
      "City number 244 of 607 complete. | Added novi ligure\n",
      "City number 245 of 607 complete. | Added sembe\n",
      "City number 246 of 607 complete. | Added laguna\n",
      "City number 247 of 607 complete. | Added san luis de la paz\n",
      "City number 248 of 607 complete. | Added fortuna\n",
      "City number 249 of 607 complete. | Added vestmannaeyjar\n",
      "City number 250 of 607 complete. | Added nalgonda\n",
      "City number 251 of 607 complete. | Added chernyshevskiy\n",
      "City number 252 of 607 complete. | Added namtsy\n",
      "City number 253 of 607 complete. | Added provideniya\n",
      "City number 254 of 607 complete. | Added okhotsk\n",
      "City number 255 of 607 complete. | Added thinadhoo\n",
      "City number 256 of 607 complete. | Added peniche\n",
      "City number 257 of 607 complete. | Added yagodnoye\n",
      "City number 258 of 607 complete. | Added makakilo city\n",
      "City number 259 of 607 complete. | Added knysna\n",
      "City number 260 of 607 complete. | Added dukat\n",
      "City number 261 of 607 complete. | Added bridlington\n",
      "City number 262 of 607 complete. | Added victoria\n",
      "City number 263 of 607 complete. | Added guerrero negro\n",
      "City number 264 of 607 complete. | Added ngunguru\n",
      "City number 265 of 607 complete. | Added wadi musa\n",
      "City number 266 of 607 complete. | Added jacareacanga\n",
      "Missing data in city number 267 of 607. | Skipping karaul\n",
      "City number 268 of 607 complete. | Added puerto ayora\n",
      "City number 269 of 607 complete. | Added oriximina\n",
      "City number 270 of 607 complete. | Added iralaya\n",
      "City number 271 of 607 complete. | Added carnarvon\n",
      "City number 272 of 607 complete. | Added kyzyl-oktyabr\n",
      "City number 273 of 607 complete. | Added arraial do cabo\n",
      "City number 274 of 607 complete. | Added taltal\n",
      "City number 275 of 607 complete. | Added lebu\n",
      "City number 276 of 607 complete. | Added hobyo\n",
      "City number 277 of 607 complete. | Added ahipara\n",
      "City number 278 of 607 complete. | Added caianu mic\n",
      "City number 279 of 607 complete. | Added veraval\n",
      "City number 280 of 607 complete. | Added vao\n",
      "City number 281 of 607 complete. | Added souillac\n",
      "City number 282 of 607 complete. | Added selma\n",
      "City number 283 of 607 complete. | Added tezu\n",
      "City number 284 of 607 complete. | Added saurimo\n",
      "City number 285 of 607 complete. | Added cherskiy\n",
      "City number 286 of 607 complete. | Added sanmenxia\n",
      "City number 287 of 607 complete. | Added port elizabeth\n",
      "City number 288 of 607 complete. | Added namatanai\n",
      "City number 289 of 607 complete. | Added pakala\n",
      "Missing data in city number 290 of 607. | Skipping toliary\n",
      "City number 291 of 607 complete. | Added panguna\n",
      "City number 292 of 607 complete. | Added clyde river\n",
      "City number 293 of 607 complete. | Added cidreira\n",
      "City number 294 of 607 complete. | Added effingham\n",
      "City number 295 of 607 complete. | Added alyangula\n",
      "City number 296 of 607 complete. | Added grand-santi\n",
      "City number 297 of 607 complete. | Added la ronge\n",
      "City number 298 of 607 complete. | Added channel-port aux basques\n",
      "City number 299 of 607 complete. | Added riberalta\n",
      "City number 300 of 607 complete. | Added ocampo\n",
      "City number 301 of 607 complete. | Added san juan\n",
      "City number 302 of 607 complete. | Added berezovo\n",
      "City number 303 of 607 complete. | Added moose factory\n",
      "City number 304 of 607 complete. | Added lompoc\n",
      "City number 305 of 607 complete. | Added kruisfontein\n",
      "City number 306 of 607 complete. | Added mutoko\n",
      "City number 307 of 607 complete. | Added birjand\n",
      "City number 308 of 607 complete. | Added udachnyy\n",
      "City number 309 of 607 complete. | Added adeje\n",
      "City number 310 of 607 complete. | Added arkansas city\n",
      "City number 311 of 607 complete. | Added swan hill\n",
      "Missing data in city number 312 of 607. | Skipping chikoy\n",
      "City number 313 of 607 complete. | Added la tuque\n",
      "City number 314 of 607 complete. | Added homer\n",
      "City number 315 of 607 complete. | Added kearney\n",
      "City number 316 of 607 complete. | Added santa cruz cabralia\n",
      "City number 317 of 607 complete. | Added sinnamary\n",
      "City number 318 of 607 complete. | Added maxixe\n",
      "Missing data in city number 319 of 607. | Skipping bur gabo\n",
      "City number 320 of 607 complete. | Added narasannapeta\n",
      "City number 321 of 607 complete. | Added krasnoselkup\n"
     ]
    },
    {
     "name": "stdout",
     "output_type": "stream",
     "text": [
      "City number 322 of 607 complete. | Added yulara\n",
      "City number 323 of 607 complete. | Added barrow\n",
      "City number 324 of 607 complete. | Added kropotkin\n",
      "City number 325 of 607 complete. | Added maningrida\n",
      "City number 326 of 607 complete. | Added tiarei\n",
      "City number 327 of 607 complete. | Added saucillo\n",
      "City number 328 of 607 complete. | Added bambous virieux\n",
      "Missing data in city number 329 of 607. | Skipping grand centre\n",
      "City number 330 of 607 complete. | Added petropavlovskaya\n",
      "City number 331 of 607 complete. | Added rach gia\n",
      "City number 332 of 607 complete. | Added geraldton\n",
      "City number 333 of 607 complete. | Added poum\n",
      "City number 334 of 607 complete. | Added tubuala\n",
      "City number 335 of 607 complete. | Added weligama\n",
      "City number 336 of 607 complete. | Added beringovskiy\n",
      "City number 337 of 607 complete. | Added jerome\n",
      "City number 338 of 607 complete. | Added ayan\n",
      "Missing data in city number 339 of 607. | Skipping wampusirpi\n",
      "City number 340 of 607 complete. | Added thompson\n",
      "City number 341 of 607 complete. | Added yaan\n",
      "City number 342 of 607 complete. | Added bonfim\n",
      "City number 343 of 607 complete. | Added leningradskiy\n",
      "Missing data in city number 344 of 607. | Skipping cheuskiny\n",
      "City number 345 of 607 complete. | Added vestmanna\n",
      "City number 346 of 607 complete. | Added erzin\n",
      "City number 347 of 607 complete. | Added faanui\n",
      "City number 348 of 607 complete. | Added itaituba\n",
      "City number 349 of 607 complete. | Added tyulyachi\n",
      "City number 350 of 607 complete. | Added abay\n",
      "City number 351 of 607 complete. | Added biltine\n",
      "City number 352 of 607 complete. | Added iqaluit\n",
      "City number 353 of 607 complete. | Added champerico\n",
      "City number 354 of 607 complete. | Added korla\n",
      "City number 355 of 607 complete. | Added oksfjord\n",
      "City number 356 of 607 complete. | Added honiara\n",
      "City number 357 of 607 complete. | Added tacoronte\n",
      "City number 358 of 607 complete. | Added santa cruz\n",
      "City number 359 of 607 complete. | Added richards bay\n",
      "City number 360 of 607 complete. | Added chik\n",
      "City number 361 of 607 complete. | Added naze\n",
      "City number 362 of 607 complete. | Added goderich\n",
      "Missing data in city number 363 of 607. | Skipping coulihaut\n",
      "City number 364 of 607 complete. | Added xixiang\n",
      "City number 365 of 607 complete. | Added port hedland\n",
      "City number 366 of 607 complete. | Added talnakh\n",
      "City number 367 of 607 complete. | Added muskegon\n",
      "City number 368 of 607 complete. | Added guia de isora\n",
      "City number 369 of 607 complete. | Added terrace\n",
      "City number 370 of 607 complete. | Added tasiilaq\n",
      "City number 371 of 607 complete. | Added kloulklubed\n",
      "Missing data in city number 372 of 607. | Skipping sentyabrskiy\n",
      "City number 373 of 607 complete. | Added maceio\n",
      "City number 374 of 607 complete. | Added wiarton\n",
      "City number 375 of 607 complete. | Added ntungamo\n",
      "City number 376 of 607 complete. | Added maragogi\n",
      "City number 377 of 607 complete. | Added kocevje\n",
      "City number 378 of 607 complete. | Added cabo san lucas\n",
      "City number 379 of 607 complete. | Added praia\n",
      "City number 380 of 607 complete. | Added batemans bay\n",
      "City number 381 of 607 complete. | Added plettenberg bay\n",
      "City number 382 of 607 complete. | Added lata\n",
      "City number 383 of 607 complete. | Added teknaf\n",
      "City number 384 of 607 complete. | Added omama\n",
      "City number 385 of 607 complete. | Added pisco\n",
      "City number 386 of 607 complete. | Added iwanai\n",
      "City number 387 of 607 complete. | Added campos altos\n",
      "City number 388 of 607 complete. | Added nishihara\n",
      "Missing data in city number 389 of 607. | Skipping phan rang\n",
      "City number 390 of 607 complete. | Added axim\n",
      "City number 391 of 607 complete. | Added makat\n",
      "City number 392 of 607 complete. | Added puerto madryn\n",
      "City number 393 of 607 complete. | Added ust-nera\n",
      "City number 394 of 607 complete. | Added whitehorse\n",
      "Missing data in city number 395 of 607. | Skipping sorvag\n",
      "City number 396 of 607 complete. | Added popondetta\n",
      "City number 397 of 607 complete. | Added clinton\n",
      "City number 398 of 607 complete. | Added yuanping\n",
      "City number 399 of 607 complete. | Added coquimbo\n",
      "City number 400 of 607 complete. | Added meulaboh\n",
      "City number 401 of 607 complete. | Added cap malheureux\n",
      "City number 402 of 607 complete. | Added wynyard\n",
      "City number 403 of 607 complete. | Added baturaja\n",
      "City number 404 of 607 complete. | Added adrar\n",
      "City number 405 of 607 complete. | Added catuday\n",
      "City number 406 of 607 complete. | Added sao jose da coroa grande\n",
      "City number 407 of 607 complete. | Added ukiah\n",
      "Missing data in city number 408 of 607. | Skipping samusu\n",
      "City number 409 of 607 complete. | Added grand gaube\n",
      "City number 410 of 607 complete. | Added warrnambool\n",
      "City number 411 of 607 complete. | Added misratah\n",
      "City number 412 of 607 complete. | Added paamiut\n",
      "City number 413 of 607 complete. | Added salalah\n",
      "City number 414 of 607 complete. | Added bajil\n",
      "City number 415 of 607 complete. | Added sisimiut\n",
      "City number 416 of 607 complete. | Added barcelos\n",
      "City number 417 of 607 complete. | Added sotnikovo\n",
      "City number 418 of 607 complete. | Added pochutla\n",
      "City number 419 of 607 complete. | Added bereda\n",
      "City number 420 of 607 complete. | Added henties bay\n",
      "City number 421 of 607 complete. | Added esil\n",
      "City number 422 of 607 complete. | Added boddam\n",
      "City number 423 of 607 complete. | Added okakarara\n",
      "City number 424 of 607 complete. | Added khanpur\n",
      "City number 425 of 607 complete. | Added lubbock\n",
      "City number 426 of 607 complete. | Added tombouctou\n",
      "City number 427 of 607 complete. | Added jumla\n",
      "City number 428 of 607 complete. | Added cheremisinovo\n",
      "City number 429 of 607 complete. | Added tiznit\n",
      "City number 430 of 607 complete. | Added pozo colorado\n",
      "City number 431 of 607 complete. | Added kismayo\n",
      "Missing data in city number 432 of 607. | Skipping ozgon\n",
      "City number 433 of 607 complete. | Added fort nelson\n",
      "City number 434 of 607 complete. | Added port hardy\n",
      "City number 435 of 607 complete. | Added blythe\n",
      "City number 436 of 607 complete. | Added punta alta\n",
      "City number 437 of 607 complete. | Added santo tomas\n",
      "City number 438 of 607 complete. | Added shangrao\n",
      "City number 439 of 607 complete. | Added kuito\n",
      "City number 440 of 607 complete. | Added kyra\n",
      "City number 441 of 607 complete. | Added pacific grove\n",
      "City number 442 of 607 complete. | Added chardara\n",
      "City number 443 of 607 complete. | Added ati\n",
      "City number 444 of 607 complete. | Added aksarka\n",
      "City number 445 of 607 complete. | Added spring hill\n",
      "City number 446 of 607 complete. | Added jalu\n",
      "City number 447 of 607 complete. | Added nieuw amsterdam\n",
      "City number 448 of 607 complete. | Added beyneu\n",
      "City number 449 of 607 complete. | Added grindavik\n",
      "City number 450 of 607 complete. | Added teya\n",
      "City number 451 of 607 complete. | Added victoria point\n",
      "City number 452 of 607 complete. | Added hohhot\n",
      "City number 453 of 607 complete. | Added manchester\n",
      "City number 454 of 607 complete. | Added port lincoln\n",
      "City number 455 of 607 complete. | Added north bend\n",
      "City number 456 of 607 complete. | Added necochea\n",
      "City number 457 of 607 complete. | Added wladyslawowo\n",
      "City number 458 of 607 complete. | Added nador\n",
      "City number 459 of 607 complete. | Added brenham\n",
      "City number 460 of 607 complete. | Added tsabong\n",
      "City number 461 of 607 complete. | Added kalmar\n",
      "City number 462 of 607 complete. | Added mendi\n",
      "City number 463 of 607 complete. | Added redlands\n",
      "City number 464 of 607 complete. | Added puerto plata\n",
      "City number 465 of 607 complete. | Added katiola\n",
      "City number 466 of 607 complete. | Added kedougou\n",
      "City number 467 of 607 complete. | Added abu samrah\n",
      "City number 468 of 607 complete. | Added bouloupari\n",
      "City number 469 of 607 complete. | Added yacuiba\n",
      "City number 470 of 607 complete. | Added borovskoy\n",
      "City number 471 of 607 complete. | Added viedma\n",
      "City number 472 of 607 complete. | Added fairbanks\n",
      "City number 473 of 607 complete. | Added greenville\n",
      "City number 474 of 607 complete. | Added buala\n",
      "Missing data in city number 475 of 607. | Skipping karauzyak\n",
      "City number 476 of 607 complete. | Added sept-iles\n",
      "City number 477 of 607 complete. | Added parkes\n",
      "City number 478 of 607 complete. | Added dingle\n",
      "City number 479 of 607 complete. | Added dedougou\n",
      "City number 480 of 607 complete. | Added rafaela\n",
      "City number 481 of 607 complete. | Added shubarkuduk\n",
      "City number 482 of 607 complete. | Added illela\n",
      "City number 483 of 607 complete. | Added yarkovo\n"
     ]
    },
    {
     "name": "stdout",
     "output_type": "stream",
     "text": [
      "City number 484 of 607 complete. | Added praia da vitoria\n",
      "City number 485 of 607 complete. | Added pringsewu\n",
      "City number 486 of 607 complete. | Added vancouver\n",
      "City number 487 of 607 complete. | Added abha\n",
      "City number 488 of 607 complete. | Added bambanglipuro\n",
      "City number 489 of 607 complete. | Added loukhi\n",
      "City number 490 of 607 complete. | Added pedernales\n",
      "City number 491 of 607 complete. | Added nhulunbuy\n",
      "City number 492 of 607 complete. | Added noshiro\n",
      "City number 493 of 607 complete. | Added opuwo\n",
      "City number 494 of 607 complete. | Added antalaha\n",
      "Missing data in city number 495 of 607. | Skipping kytlym\n",
      "City number 496 of 607 complete. | Added pitimbu\n",
      "City number 497 of 607 complete. | Added michigan city\n",
      "City number 498 of 607 complete. | Added tefe\n",
      "City number 499 of 607 complete. | Added mamakan\n",
      "City number 500 of 607 complete. | Added mirabad\n",
      "City number 501 of 607 complete. | Added islamkot\n",
      "City number 502 of 607 complete. | Added kutum\n",
      "City number 503 of 607 complete. | Added buraydah\n",
      "City number 504 of 607 complete. | Added cockburn town\n",
      "City number 505 of 607 complete. | Added podor\n",
      "City number 506 of 607 complete. | Added suntar\n",
      "City number 507 of 607 complete. | Added gamba\n",
      "City number 508 of 607 complete. | Added wagar\n",
      "City number 509 of 607 complete. | Added saint-denis\n",
      "City number 510 of 607 complete. | Added hasaki\n",
      "City number 511 of 607 complete. | Added novyy yarychiv\n",
      "Missing data in city number 512 of 607. | Skipping scottsburgh\n",
      "City number 513 of 607 complete. | Added machilipatnam\n",
      "City number 514 of 607 complete. | Added vavoua\n",
      "City number 515 of 607 complete. | Added marfino\n",
      "City number 516 of 607 complete. | Added isangel\n",
      "City number 517 of 607 complete. | Added aborlan\n",
      "City number 518 of 607 complete. | Added lowestoft\n",
      "City number 519 of 607 complete. | Added magelang\n",
      "City number 520 of 607 complete. | Added brae\n",
      "City number 521 of 607 complete. | Added kondratovo\n",
      "City number 522 of 607 complete. | Added manokwari\n",
      "City number 523 of 607 complete. | Added mehamn\n",
      "City number 524 of 607 complete. | Added sao filipe\n",
      "City number 525 of 607 complete. | Added eureka\n",
      "City number 526 of 607 complete. | Added borogontsy\n",
      "City number 527 of 607 complete. | Added kununurra\n",
      "City number 528 of 607 complete. | Added aranos\n",
      "City number 529 of 607 complete. | Added kaya\n",
      "City number 530 of 607 complete. | Added ostrovnoy\n",
      "City number 531 of 607 complete. | Added tsiroanomandidy\n",
      "City number 532 of 607 complete. | Added ondangwa\n",
      "Missing data in city number 533 of 607. | Skipping tarudant\n",
      "City number 534 of 607 complete. | Added kutulik\n",
      "City number 535 of 607 complete. | Added solano\n",
      "City number 536 of 607 complete. | Added lewisporte\n",
      "City number 537 of 607 complete. | Added prince rupert\n",
      "City number 538 of 607 complete. | Added murray bridge\n",
      "City number 539 of 607 complete. | Added griffith\n",
      "City number 540 of 607 complete. | Added conakry\n",
      "City number 541 of 607 complete. | Added kilindoni\n",
      "City number 542 of 607 complete. | Added casper\n",
      "City number 543 of 607 complete. | Added koumac\n",
      "City number 544 of 607 complete. | Added morgan city\n",
      "City number 545 of 607 complete. | Added mangrol\n",
      "City number 546 of 607 complete. | Added russell\n",
      "City number 547 of 607 complete. | Added santa fe\n",
      "City number 548 of 607 complete. | Added samarai\n",
      "Missing data in city number 549 of 607. | Skipping hunza\n",
      "City number 550 of 607 complete. | Added halifax\n",
      "City number 551 of 607 complete. | Added union\n",
      "City number 552 of 607 complete. | Added gospic\n",
      "City number 553 of 607 complete. | Added baoro\n",
      "City number 554 of 607 complete. | Added palu\n",
      "City number 555 of 607 complete. | Added malampaka\n",
      "City number 556 of 607 complete. | Added petropavlovskoye\n",
      "City number 557 of 607 complete. | Added turukhansk\n",
      "City number 558 of 607 complete. | Added tateyama\n",
      "City number 559 of 607 complete. | Added ca mau\n",
      "City number 560 of 607 complete. | Added hoquiam\n",
      "City number 561 of 607 complete. | Added de aar\n",
      "City number 562 of 607 complete. | Added arroyo\n",
      "City number 563 of 607 complete. | Added husavik\n",
      "Missing data in city number 564 of 607. | Skipping louisbourg\n",
      "City number 565 of 607 complete. | Added khani\n",
      "City number 566 of 607 complete. | Added vila franca do campo\n",
      "City number 567 of 607 complete. | Added charters towers\n",
      "City number 568 of 607 complete. | Added evensk\n",
      "City number 569 of 607 complete. | Added assiniboia\n",
      "City number 570 of 607 complete. | Added namibe\n",
      "City number 571 of 607 complete. | Added calca\n",
      "City number 572 of 607 complete. | Added terney\n",
      "City number 573 of 607 complete. | Added lagunas\n",
      "City number 574 of 607 complete. | Added muncar\n",
      "City number 575 of 607 complete. | Added lazaro cardenas\n",
      "City number 576 of 607 complete. | Added dunedin\n",
      "City number 577 of 607 complete. | Added katsuura\n",
      "City number 578 of 607 complete. | Added muros\n",
      "City number 579 of 607 complete. | Added iskateley\n",
      "City number 580 of 607 complete. | Added lima\n",
      "City number 581 of 607 complete. | Added fasa\n",
      "City number 582 of 607 complete. | Added portland\n",
      "City number 583 of 607 complete. | Added shache\n",
      "City number 584 of 607 complete. | Added saldanha\n",
      "City number 585 of 607 complete. | Added coahuayana\n",
      "City number 586 of 607 complete. | Added cahors\n",
      "City number 587 of 607 complete. | Added vyshneve\n",
      "City number 588 of 607 complete. | Added ust-omchug\n",
      "City number 589 of 607 complete. | Added malabo\n",
      "City number 590 of 607 complete. | Added saint-augustin\n",
      "City number 591 of 607 complete. | Added bagan\n",
      "City number 592 of 607 complete. | Added san patricio\n",
      "City number 593 of 607 complete. | Added ambon\n",
      "City number 594 of 607 complete. | Added selikhino\n",
      "City number 595 of 607 complete. | Added katobu\n",
      "Missing data in city number 596 of 607. | Skipping jiddah\n",
      "City number 597 of 607 complete. | Added hamilton\n",
      "Missing data in city number 598 of 607. | Skipping mys shmidta\n",
      "City number 599 of 607 complete. | Added semenivka\n",
      "City number 600 of 607 complete. | Added jhargram\n",
      "Missing data in city number 601 of 607. | Skipping halalo\n",
      "City number 602 of 607 complete. | Added port blair\n",
      "City number 603 of 607 complete. | Added havre-saint-pierre\n",
      "City number 604 of 607 complete. | Added sao felix do xingu\n",
      "City number 605 of 607 complete. | Added mountain home\n",
      "City number 606 of 607 complete. | Added saint augustine\n",
      "City number 607 of 607 complete. | Added riyadh\n",
      "------------------------------\n",
      "End of Records\n",
      "------------------------------\n"
     ]
    }
   ],
   "source": [
    "#Initiate counter for city number below\n",
    "number = 1\n",
    "\n",
    "#Lists for holding required items\n",
    "city_name = []\n",
    "lat = []\n",
    "lng = []\n",
    "temp = []\n",
    "humid = []\n",
    "clouds = []\n",
    "wind = []\n",
    "date = []\n",
    "countries = []\n",
    "#Loop through each city, extract required items, and print result\n",
    "print('------------------------------')\n",
    "print('Start of Records')\n",
    "print('------------------------------')\n",
    "\n",
    "for city in cities:\n",
    "    try:\n",
    "        city_data = (requests.get(url + '&q=' + city)).json()\n",
    "        city_name.append(city_data['name'])\n",
    "        countries.append(city_data[\"sys\"][\"country\"])\n",
    "        lat.append(city_data['coord']['lat'])\n",
    "        lng.append(city_data['coord']['lon'])\n",
    "        temp.append(city_data['main']['temp'])\n",
    "        humid.append(city_data['main']['humidity'])\n",
    "        clouds.append(city_data['clouds']['all'])\n",
    "        wind.append(city_data['wind']['speed'])\n",
    "        date.append(city_data['dt'])\n",
    "        print(f'City number {number} of {len(cities)} complete. | Added {city}')\n",
    "        number = number + 1\n",
    "    \n",
    "    except KeyError:\n",
    "        print(f'Missing data in city number {number} of {len(cities)}. | Skipping {city}')\n",
    "        number = number + 1\n",
    "        \n",
    "print('------------------------------')\n",
    "print('End of Records')\n",
    "print('------------------------------')"
   ]
  },
  {
   "cell_type": "markdown",
   "metadata": {},
   "source": [
    "### Convert Raw Data to DataFrame\n",
    "* Export the city data into a .csv.\n",
    "* Display the DataFrame"
   ]
  },
  {
   "cell_type": "code",
   "execution_count": 28,
   "metadata": {},
   "outputs": [
    {
     "data": {
      "text/html": [
       "<div>\n",
       "<style scoped>\n",
       "    .dataframe tbody tr th:only-of-type {\n",
       "        vertical-align: middle;\n",
       "    }\n",
       "\n",
       "    .dataframe tbody tr th {\n",
       "        vertical-align: top;\n",
       "    }\n",
       "\n",
       "    .dataframe thead th {\n",
       "        text-align: right;\n",
       "    }\n",
       "</style>\n",
       "<table border=\"1\" class=\"dataframe\">\n",
       "  <thead>\n",
       "    <tr style=\"text-align: right;\">\n",
       "      <th></th>\n",
       "      <th>City</th>\n",
       "      <th>Country</th>\n",
       "      <th>Latitude</th>\n",
       "      <th>Longitude</th>\n",
       "      <th>Temperature</th>\n",
       "      <th>Humidity</th>\n",
       "      <th>Cloudiness</th>\n",
       "      <th>Wind Speed</th>\n",
       "      <th>Date</th>\n",
       "    </tr>\n",
       "  </thead>\n",
       "  <tbody>\n",
       "    <tr>\n",
       "      <th>0</th>\n",
       "      <td>Ilulissat</td>\n",
       "      <td>GL</td>\n",
       "      <td>69.2167</td>\n",
       "      <td>-51.1000</td>\n",
       "      <td>37.40</td>\n",
       "      <td>52</td>\n",
       "      <td>75</td>\n",
       "      <td>4.61</td>\n",
       "      <td>1619264423</td>\n",
       "    </tr>\n",
       "    <tr>\n",
       "      <th>1</th>\n",
       "      <td>Vanavara</td>\n",
       "      <td>RU</td>\n",
       "      <td>60.3400</td>\n",
       "      <td>102.2797</td>\n",
       "      <td>34.81</td>\n",
       "      <td>94</td>\n",
       "      <td>100</td>\n",
       "      <td>1.66</td>\n",
       "      <td>1619264423</td>\n",
       "    </tr>\n",
       "    <tr>\n",
       "      <th>2</th>\n",
       "      <td>Ushuaia</td>\n",
       "      <td>AR</td>\n",
       "      <td>-54.8000</td>\n",
       "      <td>-68.3000</td>\n",
       "      <td>44.60</td>\n",
       "      <td>81</td>\n",
       "      <td>75</td>\n",
       "      <td>4.61</td>\n",
       "      <td>1619264340</td>\n",
       "    </tr>\n",
       "    <tr>\n",
       "      <th>3</th>\n",
       "      <td>Camaná</td>\n",
       "      <td>PE</td>\n",
       "      <td>-16.6228</td>\n",
       "      <td>-72.7111</td>\n",
       "      <td>66.33</td>\n",
       "      <td>84</td>\n",
       "      <td>62</td>\n",
       "      <td>7.20</td>\n",
       "      <td>1619264424</td>\n",
       "    </tr>\n",
       "    <tr>\n",
       "      <th>4</th>\n",
       "      <td>Vaini</td>\n",
       "      <td>TO</td>\n",
       "      <td>-21.2000</td>\n",
       "      <td>-175.2000</td>\n",
       "      <td>73.40</td>\n",
       "      <td>94</td>\n",
       "      <td>20</td>\n",
       "      <td>2.30</td>\n",
       "      <td>1619264424</td>\n",
       "    </tr>\n",
       "    <tr>\n",
       "      <th>...</th>\n",
       "      <td>...</td>\n",
       "      <td>...</td>\n",
       "      <td>...</td>\n",
       "      <td>...</td>\n",
       "      <td>...</td>\n",
       "      <td>...</td>\n",
       "      <td>...</td>\n",
       "      <td>...</td>\n",
       "      <td>...</td>\n",
       "    </tr>\n",
       "    <tr>\n",
       "      <th>557</th>\n",
       "      <td>Havre-St-Pierre</td>\n",
       "      <td>CA</td>\n",
       "      <td>50.2334</td>\n",
       "      <td>-63.5986</td>\n",
       "      <td>32.00</td>\n",
       "      <td>86</td>\n",
       "      <td>1</td>\n",
       "      <td>6.91</td>\n",
       "      <td>1619264527</td>\n",
       "    </tr>\n",
       "    <tr>\n",
       "      <th>558</th>\n",
       "      <td>São Félix do Xingu</td>\n",
       "      <td>BR</td>\n",
       "      <td>-6.6447</td>\n",
       "      <td>-51.9950</td>\n",
       "      <td>73.83</td>\n",
       "      <td>97</td>\n",
       "      <td>84</td>\n",
       "      <td>0.27</td>\n",
       "      <td>1619264527</td>\n",
       "    </tr>\n",
       "    <tr>\n",
       "      <th>559</th>\n",
       "      <td>Mountain Home</td>\n",
       "      <td>US</td>\n",
       "      <td>43.1330</td>\n",
       "      <td>-115.6912</td>\n",
       "      <td>50.00</td>\n",
       "      <td>37</td>\n",
       "      <td>1</td>\n",
       "      <td>16.11</td>\n",
       "      <td>1619264527</td>\n",
       "    </tr>\n",
       "    <tr>\n",
       "      <th>560</th>\n",
       "      <td>Saint Augustine</td>\n",
       "      <td>US</td>\n",
       "      <td>29.8947</td>\n",
       "      <td>-81.3145</td>\n",
       "      <td>68.50</td>\n",
       "      <td>78</td>\n",
       "      <td>1</td>\n",
       "      <td>12.66</td>\n",
       "      <td>1619264528</td>\n",
       "    </tr>\n",
       "    <tr>\n",
       "      <th>561</th>\n",
       "      <td>Riyadh</td>\n",
       "      <td>SA</td>\n",
       "      <td>24.6877</td>\n",
       "      <td>46.7219</td>\n",
       "      <td>100.40</td>\n",
       "      <td>9</td>\n",
       "      <td>0</td>\n",
       "      <td>5.75</td>\n",
       "      <td>1619264473</td>\n",
       "    </tr>\n",
       "  </tbody>\n",
       "</table>\n",
       "<p>562 rows × 9 columns</p>\n",
       "</div>"
      ],
      "text/plain": [
       "                   City Country  Latitude  Longitude  Temperature  Humidity  \\\n",
       "0             Ilulissat      GL   69.2167   -51.1000        37.40        52   \n",
       "1              Vanavara      RU   60.3400   102.2797        34.81        94   \n",
       "2               Ushuaia      AR  -54.8000   -68.3000        44.60        81   \n",
       "3                Camaná      PE  -16.6228   -72.7111        66.33        84   \n",
       "4                 Vaini      TO  -21.2000  -175.2000        73.40        94   \n",
       "..                  ...     ...       ...        ...          ...       ...   \n",
       "557     Havre-St-Pierre      CA   50.2334   -63.5986        32.00        86   \n",
       "558  São Félix do Xingu      BR   -6.6447   -51.9950        73.83        97   \n",
       "559       Mountain Home      US   43.1330  -115.6912        50.00        37   \n",
       "560     Saint Augustine      US   29.8947   -81.3145        68.50        78   \n",
       "561              Riyadh      SA   24.6877    46.7219       100.40         9   \n",
       "\n",
       "     Cloudiness  Wind Speed        Date  \n",
       "0            75        4.61  1619264423  \n",
       "1           100        1.66  1619264423  \n",
       "2            75        4.61  1619264340  \n",
       "3            62        7.20  1619264424  \n",
       "4            20        2.30  1619264424  \n",
       "..          ...         ...         ...  \n",
       "557           1        6.91  1619264527  \n",
       "558          84        0.27  1619264527  \n",
       "559           1       16.11  1619264527  \n",
       "560           1       12.66  1619264528  \n",
       "561           0        5.75  1619264473  \n",
       "\n",
       "[562 rows x 9 columns]"
      ]
     },
     "execution_count": 28,
     "metadata": {},
     "output_type": "execute_result"
    }
   ],
   "source": [
    "\n",
    "#Create a dataframe with required items\n",
    "city_data_df = pd.DataFrame({'City': city_name,\n",
    "                             'Country': countries,\n",
    "                             'Latitude': lat,\n",
    "                             'Longitude': lng,\n",
    "                             'Temperature': temp,\n",
    "                             'Humidity': humid,\n",
    "                             'Cloudiness': clouds,\n",
    "                             'Wind Speed': wind,\n",
    "                             'Date': date})\n",
    "\n",
    "#Save dataframe as csv\n",
    "pd.DataFrame.to_csv(city_data_df, 'city_data.csv')\n",
    "\n",
    "city_data_df"
   ]
  },
  {
   "cell_type": "markdown",
   "metadata": {},
   "source": [
    "## Inspect the data and remove the cities where the humidity > 100%.\n",
    "----\n",
    "Skip this step if there are no cities that have humidity > 100%. "
   ]
  },
  {
   "cell_type": "code",
   "execution_count": 29,
   "metadata": {},
   "outputs": [
    {
     "data": {
      "text/html": [
       "<div>\n",
       "<style scoped>\n",
       "    .dataframe tbody tr th:only-of-type {\n",
       "        vertical-align: middle;\n",
       "    }\n",
       "\n",
       "    .dataframe tbody tr th {\n",
       "        vertical-align: top;\n",
       "    }\n",
       "\n",
       "    .dataframe thead th {\n",
       "        text-align: right;\n",
       "    }\n",
       "</style>\n",
       "<table border=\"1\" class=\"dataframe\">\n",
       "  <thead>\n",
       "    <tr style=\"text-align: right;\">\n",
       "      <th></th>\n",
       "      <th>Latitude</th>\n",
       "      <th>Longitude</th>\n",
       "      <th>Temperature</th>\n",
       "      <th>Humidity</th>\n",
       "      <th>Cloudiness</th>\n",
       "      <th>Wind Speed</th>\n",
       "      <th>Date</th>\n",
       "    </tr>\n",
       "  </thead>\n",
       "  <tbody>\n",
       "    <tr>\n",
       "      <th>count</th>\n",
       "      <td>562.000000</td>\n",
       "      <td>562.000000</td>\n",
       "      <td>562.000000</td>\n",
       "      <td>562.000000</td>\n",
       "      <td>562.000000</td>\n",
       "      <td>562.000000</td>\n",
       "      <td>5.620000e+02</td>\n",
       "    </tr>\n",
       "    <tr>\n",
       "      <th>mean</th>\n",
       "      <td>20.053724</td>\n",
       "      <td>17.409668</td>\n",
       "      <td>61.260249</td>\n",
       "      <td>68.685053</td>\n",
       "      <td>56.323843</td>\n",
       "      <td>7.803043</td>\n",
       "      <td>1.619264e+09</td>\n",
       "    </tr>\n",
       "    <tr>\n",
       "      <th>std</th>\n",
       "      <td>33.409479</td>\n",
       "      <td>92.363925</td>\n",
       "      <td>21.795479</td>\n",
       "      <td>24.734572</td>\n",
       "      <td>36.594883</td>\n",
       "      <td>5.372075</td>\n",
       "      <td>8.054925e+01</td>\n",
       "    </tr>\n",
       "    <tr>\n",
       "      <th>min</th>\n",
       "      <td>-54.800000</td>\n",
       "      <td>-179.166700</td>\n",
       "      <td>-9.040000</td>\n",
       "      <td>3.000000</td>\n",
       "      <td>0.000000</td>\n",
       "      <td>0.160000</td>\n",
       "      <td>1.619264e+09</td>\n",
       "    </tr>\n",
       "    <tr>\n",
       "      <th>25%</th>\n",
       "      <td>-8.178750</td>\n",
       "      <td>-64.453475</td>\n",
       "      <td>46.580000</td>\n",
       "      <td>57.000000</td>\n",
       "      <td>20.000000</td>\n",
       "      <td>3.992500</td>\n",
       "      <td>1.619264e+09</td>\n",
       "    </tr>\n",
       "    <tr>\n",
       "      <th>50%</th>\n",
       "      <td>23.843850</td>\n",
       "      <td>21.232450</td>\n",
       "      <td>63.525000</td>\n",
       "      <td>76.000000</td>\n",
       "      <td>67.500000</td>\n",
       "      <td>6.110000</td>\n",
       "      <td>1.619264e+09</td>\n",
       "    </tr>\n",
       "    <tr>\n",
       "      <th>75%</th>\n",
       "      <td>48.894125</td>\n",
       "      <td>102.276150</td>\n",
       "      <td>78.337500</td>\n",
       "      <td>88.000000</td>\n",
       "      <td>90.000000</td>\n",
       "      <td>10.645000</td>\n",
       "      <td>1.619264e+09</td>\n",
       "    </tr>\n",
       "    <tr>\n",
       "      <th>max</th>\n",
       "      <td>78.218600</td>\n",
       "      <td>179.316700</td>\n",
       "      <td>107.870000</td>\n",
       "      <td>100.000000</td>\n",
       "      <td>100.000000</td>\n",
       "      <td>33.380000</td>\n",
       "      <td>1.619265e+09</td>\n",
       "    </tr>\n",
       "  </tbody>\n",
       "</table>\n",
       "</div>"
      ],
      "text/plain": [
       "         Latitude   Longitude  Temperature    Humidity  Cloudiness  \\\n",
       "count  562.000000  562.000000   562.000000  562.000000  562.000000   \n",
       "mean    20.053724   17.409668    61.260249   68.685053   56.323843   \n",
       "std     33.409479   92.363925    21.795479   24.734572   36.594883   \n",
       "min    -54.800000 -179.166700    -9.040000    3.000000    0.000000   \n",
       "25%     -8.178750  -64.453475    46.580000   57.000000   20.000000   \n",
       "50%     23.843850   21.232450    63.525000   76.000000   67.500000   \n",
       "75%     48.894125  102.276150    78.337500   88.000000   90.000000   \n",
       "max     78.218600  179.316700   107.870000  100.000000  100.000000   \n",
       "\n",
       "       Wind Speed          Date  \n",
       "count  562.000000  5.620000e+02  \n",
       "mean     7.803043  1.619264e+09  \n",
       "std      5.372075  8.054925e+01  \n",
       "min      0.160000  1.619264e+09  \n",
       "25%      3.992500  1.619264e+09  \n",
       "50%      6.110000  1.619264e+09  \n",
       "75%     10.645000  1.619264e+09  \n",
       "max     33.380000  1.619265e+09  "
      ]
     },
     "execution_count": 29,
     "metadata": {},
     "output_type": "execute_result"
    }
   ],
   "source": [
    "city_data_df.describe()"
   ]
  },
  {
   "cell_type": "code",
   "execution_count": 30,
   "metadata": {},
   "outputs": [
    {
     "data": {
      "text/plain": [
       "[16, 30, 103, 185, 224, 225, 317, 397, 418, 427, 436, 438, 459, 503, 549]"
      ]
     },
     "execution_count": 30,
     "metadata": {},
     "output_type": "execute_result"
    }
   ],
   "source": [
    "#  Get the indices of cities that have humidity over 100%.\n",
    "high_humid=city_data_df.loc[city_data_df[\"Humidity\"] == 100]\n",
    "\n",
    "high_humid_list=list(high_humid.index.values)\n",
    "high_humid_list"
   ]
  },
  {
   "cell_type": "code",
   "execution_count": 32,
   "metadata": {},
   "outputs": [],
   "source": [
    "# Make a new DataFrame equal to the city data to drop all humidity outliers by index.\n",
    "# Passing \"inplace=False\" will make a copy of the city_data DataFrame, which we call \"clean_city_data\".\n",
    "city_data_df.drop(high_humid_list)\n",
    "\n",
    "city_data_df.reindex()\n",
    "\n",
    "pd.DataFrame.to_csv(city_data_df, 'clean_weather.csv',index= False)"
   ]
  },
  {
   "cell_type": "markdown",
   "metadata": {},
   "source": [
    "## Plotting the Data\n",
    "* Use proper labeling of the plots using plot titles (including date of analysis) and axes labels.\n",
    "* Save the plotted figures as .pngs."
   ]
  },
  {
   "cell_type": "markdown",
   "metadata": {},
   "source": [
    "## Latitude vs. Temperature Plot"
   ]
  },
  {
   "cell_type": "code",
   "execution_count": 38,
   "metadata": {
    "scrolled": true
   },
   "outputs": [
    {
     "data": {
      "image/png": "[encoded data removed]",
      "text/plain": [
       "<Figure size 432x288 with 1 Axes>"
      ]
     },
     "metadata": {
      "needs_background": "light"
     },
     "output_type": "display_data"
    }
   ],
   "source": [
    "#Plot latitude vs temperature and save as .png\n",
    "plt.scatter(city_data_df['Latitude'], city_data_df['Temperature'])\n",
    "plt.title(f'City Latitude vs. Temperature {datetime.date.today()}')\n",
    "plt.xlabel('Latitude')\n",
    "plt.ylabel('Temperature (F)')\n",
    "plt.grid(True)\n",
    "plt.savefig('WeatherPy_OutPut_Data/latitudeVstemperature.png', bbox_inches='tight')"
   ]
  },
  {
   "cell_type": "markdown",
   "metadata": {},
   "source": [
    "## Latitude vs. Humidity Plot"
   ]
  },
  {
   "cell_type": "code",
   "execution_count": 39,
   "metadata": {},
   "outputs": [
    {
     "data": {
      "image/png": "[encoded data removed]",
      "text/plain": [
       "<Figure size 432x288 with 1 Axes>"
      ]
     },
     "metadata": {
      "needs_background": "light"
     },
     "output_type": "display_data"
    }
   ],
   "source": [
    "#Plot latitude vs humidity and save as .png\n",
    "plt.scatter(city_data_df['Latitude'], city_data_df['Humidity'])\n",
    "plt.title(f'City Latitude vs. Humidity {datetime.date.today()}')\n",
    "plt.xlabel('Latitude')\n",
    "plt.ylabel('Humidity (%)')\n",
    "plt.grid(True)\n",
    "plt.savefig('WeatherPy_OutPut_Data/latitudeVshumidity.png', bbox_inches='tight')"
   ]
  },
  {
   "cell_type": "markdown",
   "metadata": {},
   "source": [
    "## Latitude vs. Cloudiness Plot"
   ]
  },
  {
   "cell_type": "code",
   "execution_count": 40,
   "metadata": {},
   "outputs": [
    {
     "data": {
      "image/png": "[encoded data removed]",
      "text/plain": [
       "<Figure size 432x288 with 1 Axes>"
      ]
     },
     "metadata": {
      "needs_background": "light"
     },
     "output_type": "display_data"
    }
   ],
   "source": [
    "#Plot latitude vs cloudiness and save as .png\n",
    "plt.scatter(city_data_df['Latitude'], city_data_df['Cloudiness'])\n",
    "plt.title(f'City Latitude vs. Cloudiness {datetime.date.today()}')\n",
    "plt.xlabel('Latitude')\n",
    "plt.ylabel('Cloudiness (%)')\n",
    "plt.grid(True)\n",
    "plt.savefig('WeatherPy_OutPut_Data/latitudeVscloudiness.png', bbox_inches='tight')"
   ]
  },
  {
   "cell_type": "markdown",
   "metadata": {},
   "source": [
    "## Latitude vs. Wind Speed Plot"
   ]
  },
  {
   "cell_type": "code",
   "execution_count": 41,
   "metadata": {},
   "outputs": [
    {
     "data": {
      "image/png": "[encoded data removed]",
      "text/plain": [
       "<Figure size 432x288 with 1 Axes>"
      ]
     },
     "metadata": {
      "needs_background": "light"
     },
     "output_type": "display_data"
    }
   ],
   "source": [
    "#Plot latitude vs wind speed and save as .png\n",
    "plt.scatter(city_data_df['Latitude'], city_data_df['Wind Speed'])\n",
    "plt.title(f'City Latitude vs. Wind Speed {datetime.date.today()}')\n",
    "plt.xlabel('Latitude')\n",
    "plt.ylabel('Wind Speed (mph)')\n",
    "plt.grid(True)\n",
    "plt.savefig('WeatherPy_OutPut_Data/latatitudeVswindspeed.png', bbox_inches='tight')"
   ]
  },
  {
   "cell_type": "markdown",
   "metadata": {},
   "source": [
    "## Linear Regression"
   ]
  },
  {
   "cell_type": "code",
   "execution_count": 43,
   "metadata": {},
   "outputs": [],
   "source": [
    "\n",
    "# Create Northern and Southern Hemisphere DataFrames\n",
    "Northern_Hem_weather = city_data_df.loc[city_data_df[\"Latitude\"] > 0]\n",
    "\n",
    "Southern_Hem_weather= city_data_df.loc[city_data_df[\"Latitude\"] < 0]\n"
   ]
  },
  {
   "cell_type": "markdown",
   "metadata": {},
   "source": [
    "####  Northern Hemisphere - Max Temp vs. Latitude Linear Regression"
   ]
  },
  {
   "cell_type": "code",
   "execution_count": 44,
   "metadata": {},
   "outputs": [
    {
     "name": "stdout",
     "output_type": "stream",
     "text": [
      "r^2= -0.84\n",
      "y = -1.02x + 97.36\n"
     ]
    },
    {
     "data": {
      "image/png": "[encoded data removed]",
      "text/plain": [
       "<Figure size 432x288 with 1 Axes>"
      ]
     },
     "metadata": {
      "needs_background": "light"
     },
     "output_type": "display_data"
    }
   ],
   "source": [
    "#define x and y axis\n",
    "Nor_Lat=Northern_Hem_weather[\"Latitude\"]\n",
    "Nor_temp= Northern_Hem_weather[\"Temperature\"]\n",
    "\n",
    "\n",
    "#define slope \n",
    "(slope, intercept, rvalue, pvalue, stderr) = linregress(Nor_Lat, Nor_temp)\n",
    "regress_values = Nor_Lat * slope + intercept\n",
    "\n",
    "#plot\n",
    "plt.scatter(Nor_Lat, Nor_temp)\n",
    "\n",
    "#add lineregression \n",
    "plt.plot(Nor_Lat,regress_values,\"r-\")\n",
    "\n",
    "#determine line equation and plot it \n",
    "line_eq = \"y = \" + str(round(slope,2)) + \"x + \" + str(round(intercept,2))\n",
    "plt.annotate(line_eq,(20,5),fontsize=15,color=\"red\")\n",
    "\n",
    "#label axis \n",
    "plt.xlabel(\"Latitude\")\n",
    "plt.ylabel(\"Max Temperature (°C)\")\n",
    "plt.title(f\" Northern Hemi: Temperature vs Latitude {datetime.date.today()}\")\n",
    "plt.savefig('WeatherPy_OutPut_Data/NorthtempVslatregression.png')\n",
    "print(f\"r^2= {rvalue:.2f}\")\n",
    "print(line_eq)"
   ]
  },
  {
   "cell_type": "markdown",
   "metadata": {},
   "source": [
    "####  Southern Hemisphere - Max Temp vs. Latitude Linear Regression"
   ]
  },
  {
   "cell_type": "code",
   "execution_count": 45,
   "metadata": {},
   "outputs": [
    {
     "name": "stdout",
     "output_type": "stream",
     "text": [
      "r^2= 0.75\n",
      "y = 0.66x + 83.98\n"
     ]
    },
    {
     "data": {
      "image/png": "[encoded data removed]",
      "text/plain": [
       "<Figure size 432x288 with 1 Axes>"
      ]
     },
     "metadata": {
      "needs_background": "light"
     },
     "output_type": "display_data"
    }
   ],
   "source": [
    "#define x and y axis\n",
    "Sou_max_temp= Southern_Hem_weather[\"Temperature\"]\n",
    "Sou_Lat=Southern_Hem_weather[\"Latitude\"]\n",
    "\n",
    "#define slope \n",
    "(slope, intercept, rvalue, pvalue, stderr) = linregress(Sou_Lat, Sou_max_temp)\n",
    "regress_values = Sou_Lat * slope + intercept\n",
    "\n",
    "#plot\n",
    "plt.scatter(Sou_Lat, Sou_max_temp)\n",
    "\n",
    "#add lineregression \n",
    "plt.plot(Sou_Lat,regress_values,\"r-\")\n",
    "\n",
    "#determine line equation and plot it \n",
    "line_eq = \"y = \" + str(round(slope,2)) + \"x + \" + str(round(intercept,2))\n",
    "plt.annotate(line_eq,(-30,30),fontsize=15,color=\"red\")\n",
    "\n",
    "#label axis \n",
    "plt.xlabel(\"Latitude\")\n",
    "plt.ylabel(\"Max Temperature (°C)\")\n",
    "plt.title(f\"Southern Hemi : Temperature vs Latitude {datetime.date.today()}\")\n",
    "plt.savefig(\"WeatherPy_OutPut_Data/SouthtempVslatregression.png\")\n",
    "print(f\"r^2= {rvalue:.2f}\")\n",
    "print(line_eq)"
   ]
  },
  {
   "cell_type": "markdown",
   "metadata": {},
   "source": [
    "####  Northern Hemisphere - Humidity (%) vs. Latitude Linear Regression"
   ]
  },
  {
   "cell_type": "code",
   "execution_count": 46,
   "metadata": {},
   "outputs": [
    {
     "data": {
      "image/png": "[encoded data removed]",
      "text/plain": [
       "<Figure size 432x288 with 1 Axes>"
      ]
     },
     "metadata": {
      "needs_background": "light"
     },
     "output_type": "display_data"
    }
   ],
   "source": [
    "#define x and y axis\n",
    "Nor_humidity= Northern_Hem_weather[\"Humidity\"]\n",
    "\n",
    "\n",
    "#define slope \n",
    "(slope, intercept, rvalue, pvalue, stderr) = linregress(Nor_Lat, Nor_humidity)\n",
    "regress_values = Nor_Lat * slope + intercept\n",
    "\n",
    "#plot\n",
    "plt.scatter(Nor_Lat, Nor_humidity)\n",
    "\n",
    "#add lineregression \n",
    "plt.plot(Nor_Lat,regress_values,\"r-\")\n",
    "\n",
    "#determine line equation and plot it \n",
    "line_eq = \"y = \" + str(round(slope,2)) + \"x + \" + str(round(intercept,2))\n",
    "plt.annotate(line_eq,(20,5),fontsize=15,color=\"red\")\n",
    "\n",
    "#label axis \n",
    "plt.xlabel(\"Latitude\")\n",
    "plt.ylabel(\"Humidity %\")\n",
    "plt.title(f\" Northern Hemi: Humidity vs Latitude {datetime.date.today()}\")\n",
    "plt.savefig(\"WeatherPy_OutPut_Data/NorthhumidVslatregression.png\")\n",
    "# print(f\"r^2= {rvalue:.2f}\")\n",
    "# print(line_eq)"
   ]
  },
  {
   "cell_type": "markdown",
   "metadata": {},
   "source": [
    "####  Southern Hemisphere - Humidity (%) vs. Latitude Linear Regression"
   ]
  },
  {
   "cell_type": "code",
   "execution_count": 47,
   "metadata": {},
   "outputs": [
    {
     "name": "stdout",
     "output_type": "stream",
     "text": [
      "r^2= 0.03\n",
      "y = 0.04x + 77.29\n"
     ]
    },
    {
     "data": {
      "image/png": "[encoded data removed]",
      "text/plain": [
       "<Figure size 432x288 with 1 Axes>"
      ]
     },
     "metadata": {
      "needs_background": "light"
     },
     "output_type": "display_data"
    }
   ],
   "source": [
    "#define x and y axis\n",
    "Sou_humidity= Southern_Hem_weather[\"Humidity\"]\n",
    "\n",
    "\n",
    "#define slope \n",
    "(slope, intercept, rvalue, pvalue, stderr) = linregress(Sou_Lat, Sou_humidity)\n",
    "regress_values = Sou_Lat * slope + intercept\n",
    "\n",
    "#plot\n",
    "plt.scatter(Sou_Lat, Sou_humidity)\n",
    "\n",
    "#add lineregression \n",
    "plt.plot(Sou_Lat,regress_values,\"r-\")\n",
    "\n",
    "#determine line equation and plot it \n",
    "line_eq = \"y = \" + str(round(slope,2)) + \"x + \" + str(round(intercept,2))\n",
    "plt.annotate(line_eq,(-20,15),fontsize=15,color=\"red\")\n",
    "\n",
    "#label axis \n",
    "plt.xlabel(\"Latitude\")\n",
    "plt.ylabel(\"Humidity (%)\")\n",
    "plt.title(f\" Southern Hemi: Humidity vs Latitude {datetime.date.today()}\")\n",
    "plt.savefig(\"WeatherPy_OutPut_Data/SouthhumidVslatregression.png\")\n",
    "print(f\"r^2= {rvalue:.2f}\")\n",
    "print(line_eq)"
   ]
  },
  {
   "cell_type": "markdown",
   "metadata": {},
   "source": [
    "####  Northern Hemisphere - Cloudiness (%) vs. Latitude Linear Regression"
   ]
  },
  {
   "cell_type": "code",
   "execution_count": 48,
   "metadata": {},
   "outputs": [
    {
     "name": "stdout",
     "output_type": "stream",
     "text": [
      "r^2= 0.19\n",
      "y = 0.36x + 43.12\n"
     ]
    },
    {
     "data": {
      "image/png": "[encoded data removed]",
      "text/plain": [
       "<Figure size 432x288 with 1 Axes>"
      ]
     },
     "metadata": {
      "needs_background": "light"
     },
     "output_type": "display_data"
    }
   ],
   "source": [
    "#define x and y axis\n",
    "Nor_cloud= Northern_Hem_weather[\"Cloudiness\"]\n",
    "\n",
    "\n",
    "#define slope \n",
    "(slope, intercept, rvalue, pvalue, stderr) = linregress(Nor_Lat, Nor_cloud)\n",
    "regress_values = Nor_Lat * slope + intercept\n",
    "\n",
    "#plot\n",
    "plt.scatter(Nor_Lat, Nor_cloud)\n",
    "\n",
    "#add lineregression \n",
    "plt.plot(Nor_Lat,regress_values,\"r-\")\n",
    "\n",
    "#determine line equation and plot it \n",
    "line_eq = \"y = \" + str(round(slope,2)) + \"x + \" + str(round(intercept,2))\n",
    "plt.annotate(line_eq,(20,5),fontsize=15,color=\"red\")\n",
    "\n",
    "#label axis \n",
    "plt.xlabel(\"Latitude\")\n",
    "plt.ylabel(\"Cloudiness (%)\")\n",
    "plt.title(f\" Northern Hemi: Cloudiness vs Latitude {datetime.date.today()}\")\n",
    "plt.savefig(\"WeatherPy_OutPut_Data/NorthcloudVslatregression.png\")\n",
    "print(f\"r^2= {rvalue:.2f}\")\n",
    "print(line_eq)"
   ]
  },
  {
   "cell_type": "markdown",
   "metadata": {},
   "source": [
    "####  Southern Hemisphere - Cloudiness (%) vs. Latitude Linear Regression"
   ]
  },
  {
   "cell_type": "code",
   "execution_count": 49,
   "metadata": {},
   "outputs": [
    {
     "name": "stdout",
     "output_type": "stream",
     "text": [
      "r^2= 0.17\n",
      "y = 0.44x + 62.97\n"
     ]
    },
    {
     "data": {
      "image/png": "[encoded data removed]",
      "text/plain": [
       "<Figure size 432x288 with 1 Axes>"
      ]
     },
     "metadata": {
      "needs_background": "light"
     },
     "output_type": "display_data"
    }
   ],
   "source": [
    "#define x and y axis\n",
    "Sou_cloud= Southern_Hem_weather[\"Cloudiness\"]\n",
    "\n",
    "\n",
    "#define slope \n",
    "(slope, intercept, rvalue, pvalue, stderr) = linregress(Sou_Lat, Sou_cloud)\n",
    "regress_values = Sou_Lat * slope + intercept\n",
    "\n",
    "#plot\n",
    "plt.scatter(Sou_Lat, Sou_cloud)\n",
    "\n",
    "#add lineregression \n",
    "plt.plot(Sou_Lat,regress_values,\"r-\")\n",
    "\n",
    "#determine line equation and plot it \n",
    "line_eq = \"y = \" + str(round(slope,2)) + \"x + \" + str(round(intercept,2))\n",
    "plt.annotate(line_eq,(-30,10),fontsize=15,color=\"red\")\n",
    "\n",
    "#label axis \n",
    "plt.xlabel(\"Latitude\")\n",
    "plt.ylabel(\"Cloudiness (%)\")\n",
    "plt.title(f\" Southern Hemi: Cloudiness vs Latitude {datetime.date.today()}\")\n",
    "plt.savefig(\"WeatherPy_OutPut_Data/SouthcloudVslatregression.png\")\n",
    "print(f\"r^2= {rvalue:.2f}\")\n",
    "print(line_eq)"
   ]
  },
  {
   "cell_type": "markdown",
   "metadata": {},
   "source": [
    "####  Northern Hemisphere - Wind Speed (mph) vs. Latitude Linear Regression"
   ]
  },
  {
   "cell_type": "code",
   "execution_count": 50,
   "metadata": {},
   "outputs": [
    {
     "name": "stdout",
     "output_type": "stream",
     "text": [
      "r^2= -0.02\n",
      "y = -0.0x + 8.44\n"
     ]
    },
    {
     "data": {
      "image/png": "[encoded data removed]",
      "text/plain": [
       "<Figure size 432x288 with 1 Axes>"
      ]
     },
     "metadata": {
      "needs_background": "light"
     },
     "output_type": "display_data"
    }
   ],
   "source": [
    "#define x and y axis\n",
    "Nor_ws= Northern_Hem_weather[\"Wind Speed\"]\n",
    "\n",
    "\n",
    "#define slope \n",
    "(slope, intercept, rvalue, pvalue, stderr) = linregress(Nor_Lat, Nor_ws)\n",
    "regress_values = Nor_Lat * slope + intercept\n",
    "\n",
    "#plot\n",
    "plt.scatter(Nor_Lat, Nor_ws)\n",
    "\n",
    "#add lineregression \n",
    "plt.plot(Nor_Lat,regress_values,\"r-\")\n",
    "\n",
    "#determine line equation and plot it \n",
    "line_eq = \"y = \" + str(round(slope,2)) + \"x + \" + str(round(intercept,2))\n",
    "plt.annotate(line_eq,(20,15),fontsize=15,color=\"red\")\n",
    "\n",
    "#label axis \n",
    "plt.xlabel(\"Latitude\")\n",
    "plt.ylabel(\"Wind speed (m/s)\")\n",
    "plt.title(f\" Northern Hemi: Wind Speed vs Latitude {datetime.date.today()}\")\n",
    "plt.ylim(0,20)\n",
    "plt.savefig(\"WeatherPy_OutPut_Data/NorthwindVslatregression.png\")\n",
    "print(f\"r^2= {rvalue:.2f}\")\n",
    "print(line_eq)"
   ]
  },
  {
   "cell_type": "markdown",
   "metadata": {},
   "source": [
    "####  Southern Hemisphere - Wind Speed (mph) vs. Latitude Linear Regression"
   ]
  },
  {
   "cell_type": "code",
   "execution_count": 51,
   "metadata": {},
   "outputs": [
    {
     "name": "stdout",
     "output_type": "stream",
     "text": [
      "r^2= -0.07\n",
      "y = -0.03x + 6.25\n"
     ]
    },
    {
     "data": {
      "image/png": "[encoded data removed]",
      "text/plain": [
       "<Figure size 432x288 with 1 Axes>"
      ]
     },
     "metadata": {
      "needs_background": "light"
     },
     "output_type": "display_data"
    }
   ],
   "source": [
    "\n",
    "#define x and y axis\n",
    "Sou_ws= Southern_Hem_weather[\"Wind Speed\"]\n",
    "\n",
    "\n",
    "#define slope \n",
    "(slope, intercept, rvalue, pvalue, stderr) = linregress(Sou_Lat, Sou_ws)\n",
    "regress_values = Sou_Lat * slope + intercept\n",
    "\n",
    "#plot\n",
    "plt.scatter(Sou_Lat, Sou_ws)\n",
    "\n",
    "#add lineregression \n",
    "plt.plot(Sou_Lat,regress_values,\"r-\")\n",
    "\n",
    "#determine line equation and plot it \n",
    "line_eq = \"y = \" + str(round(slope,2)) + \"x + \" + str(round(intercept,2))\n",
    "plt.annotate(line_eq,(20,15),fontsize=15,color=\"red\")\n",
    "\n",
    "#label axis \n",
    "plt.xlabel(\"Latitude\")\n",
    "plt.ylabel(\"Wind speed (m/s)\")\n",
    "plt.title(f\" Southern Hemi: Wind Speed vs Latitude {datetime.date.today()}\")\n",
    "plt.ylim(0,20)\n",
    "plt.savefig(\"WeatherPy_OutPut_Data/SouthwindVslatregression.png\")\n",
    "print(f\"r^2= {rvalue:.2f}\")\n",
    "print(line_eq)"
   ]
  },
  {
   "cell_type": "markdown",
   "metadata": {},
   "source": [
    "# "
   ]
  }
 ],
 "metadata": {
  "anaconda-cloud": {},
  "kernel_info": {
   "name": "python3"
  },
  "kernelspec": {
   "display_name": "Python 3",
   "language": "python",
   "name": "python3"
  },
  "language_info": {
   "codemirror_mode": {
    "name": "ipython",
    "version": 3
   },
   "file_extension": ".py",
   "mimetype": "text/x-python",
   "name": "python",
   "nbconvert_exporter": "python",
   "pygments_lexer": "ipython3",
   "version": "3.8.5"
  },
  "latex_envs": {
   "LaTeX_envs_menu_present": true,
   "autoclose": false,
   "autocomplete": true,
   "bibliofile": "biblio.bib",
   "cite_by": "apalike",
   "current_citInitial": 1,
   "eqLabelWithNumbers": true,
   "eqNumInitial": 1,
   "hotkeys": {
    "equation": "Ctrl-E",
    "itemize": "Ctrl-I"
   },
   "labels_anchors": false,
   "latex_user_defs": false,
   "report_style_numbering": false,
   "user_envs_cfg": false
  },
  "nteract": {
   "version": "0.12.3"
  }
 },
 "nbformat": 4,
 "nbformat_minor": 2
}
